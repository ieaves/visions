{
 "cells": [
  {
   "cell_type": "code",
   "execution_count": 1,
   "metadata": {},
   "outputs": [],
   "source": [
    "import pandas as pd\n",
    "\n",
    "from visions.core.model import visions_complete_set\n",
    "from visions.core.model.types import *\n",
    "from visions.core.model.functional import type_inference, type_cast\n",
    "%matplotlib inline"
   ]
  },
  {
   "cell_type": "code",
   "execution_count": 2,
   "metadata": {},
   "outputs": [],
   "source": [
    "df = pd.DataFrame({'en_bool': ['yes', 'no'], \n",
    "                   'nl_bool': ['Ja', 'Nee'],\n",
    "                   'pig_latin_bool': ['esyay', 'onay']\n",
    "                  })\n",
    "typeset = visions_complete_set()"
   ]
  },
  {
   "cell_type": "code",
   "execution_count": 3,
   "metadata": {},
   "outputs": [
    {
     "data": {
      "text/plain": [
       "{'en_bool': visions_bool,\n",
       " 'nl_bool': visions_string,\n",
       " 'pig_latin_bool': visions_string}"
      ]
     },
     "execution_count": 3,
     "metadata": {},
     "output_type": "execute_result"
    }
   ],
   "source": [
    "type_inference(df, typeset)"
   ]
  },
  {
   "cell_type": "code",
   "execution_count": 4,
   "metadata": {},
   "outputs": [
    {
     "data": {
      "text/plain": [
       "{'en_bool': visions_string,\n",
       " 'nl_bool': visions_bool,\n",
       " 'pig_latin_bool': visions_string}"
      ]
     },
     "execution_count": 4,
     "metadata": {},
     "output_type": "execute_result"
    }
   ],
   "source": [
    "visions_bool.set_string_coercion_by_language('nl')\n",
    "type_inference(df, typeset)"
   ]
  },
  {
   "cell_type": "code",
   "execution_count": 6,
   "metadata": {},
   "outputs": [
    {
     "data": {
      "text/plain": [
       "{'en_bool': visions_string,\n",
       " 'nl_bool': visions_string,\n",
       " 'pig_latin_bool': visions_bool}"
      ]
     },
     "execution_count": 6,
     "metadata": {},
     "output_type": "execute_result"
    }
   ],
   "source": [
    "pig_latin_bool_coercion = [{'esyay': True, 'onay': False}]\n",
    "visions_bool.set_string_coercion(pig_latin_bool_coercion)\n",
    "type_inference(df, typeset)"
   ]
  },
  {
   "cell_type": "code",
   "execution_count": null,
   "metadata": {},
   "outputs": [],
   "source": []
  }
 ],
 "metadata": {
  "kernelspec": {
   "display_name": "Python [conda env:visions_test] *",
   "language": "python",
   "name": "conda-env-visions_test-py"
  },
  "language_info": {
   "codemirror_mode": {
    "name": "ipython",
    "version": 3
   },
   "file_extension": ".py",
   "mimetype": "text/x-python",
   "name": "python",
   "nbconvert_exporter": "python",
   "pygments_lexer": "ipython3",
   "version": "3.7.4"
  }
 },
 "nbformat": 4,
 "nbformat_minor": 4
}
