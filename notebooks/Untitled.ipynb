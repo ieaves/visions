{
 "cells": [
  {
   "cell_type": "code",
   "execution_count": 1,
   "metadata": {},
   "outputs": [],
   "source": [
    "import pandas as pd\n",
    "\n",
    "from visions.core.model import visions_complete_set\n",
    "from visions.core.model.types import *\n",
    "from visions.core.model.functional import type_inference, type_cast\n",
    "from visions.core.model.typeset import VisionTypeset\n",
    "from visions.core.model.types.visions_bool import *\n",
    "%matplotlib inline"
   ]
  },
  {
   "cell_type": "code",
   "execution_count": 2,
   "metadata": {},
   "outputs": [],
   "source": [
    "df = pd.DataFrame({'en_bool': ['yes', 'no'], \n",
    "                   'nl_bool': ['Ja', 'Nee'],\n",
    "                   'pig_latin_bool': ['esyay', 'onay']\n",
    "                  })\n",
    "typeset = visions_complete_set()"
   ]
  },
  {
   "cell_type": "code",
   "execution_count": 3,
   "metadata": {},
   "outputs": [
    {
     "data": {
      "text/plain": [
       "{'en_bool': visions_bool,\n",
       " 'nl_bool': visions_string,\n",
       " 'pig_latin_bool': visions_string}"
      ]
     },
     "execution_count": 3,
     "metadata": {},
     "output_type": "execute_result"
    }
   ],
   "source": [
    "type_inference(df, typeset)"
   ]
  },
  {
   "cell_type": "code",
   "execution_count": 4,
   "metadata": {},
   "outputs": [
    {
     "data": {
      "text/plain": [
       "{'en_bool': visions_string,\n",
       " 'nl_bool': visions_bool[dutch],\n",
       " 'pig_latin_bool': visions_string}"
      ]
     },
     "execution_count": 4,
     "metadata": {},
     "output_type": "execute_result"
    }
   ],
   "source": [
    "nl_bool_coercion = [{\"ja\": True, \"nee\": False}]\n",
    "nl_bool = visions_bool.make_string_coercion('dutch', nl_bool_coercion)\n",
    "\n",
    "new_typeset = typeset - visions_bool + nl_bool\n",
    "type_inference(df, new_typeset)"
   ]
  },
  {
   "cell_type": "code",
   "execution_count": 5,
   "metadata": {},
   "outputs": [
    {
     "ename": "TypeError",
     "evalue": "make_string_coercion() missing 1 required positional argument: 'string_coercions'",
     "output_type": "error",
     "traceback": [
      "\u001b[0;31m---------------------------------------------------------------------------\u001b[0m",
      "\u001b[0;31mTypeError\u001b[0m                                 Traceback (most recent call last)",
      "\u001b[0;32m<ipython-input-5-53074ad05a2d>\u001b[0m in \u001b[0;36m<module>\u001b[0;34m\u001b[0m\n\u001b[0;32m----> 1\u001b[0;31m \u001b[0mnl_bool\u001b[0m \u001b[0;34m=\u001b[0m \u001b[0mget_language_bool\u001b[0m\u001b[0;34m(\u001b[0m\u001b[0;34m'nl'\u001b[0m\u001b[0;34m)\u001b[0m\u001b[0;34m\u001b[0m\u001b[0;34m\u001b[0m\u001b[0m\n\u001b[0m",
      "\u001b[0;32m~/repos/tenzing/src/visions/core/model/types/visions_bool.py\u001b[0m in \u001b[0;36mget_language_bool\u001b[0;34m(language_code)\u001b[0m\n\u001b[1;32m     31\u001b[0m \u001b[0;34m\u001b[0m\u001b[0m\n\u001b[1;32m     32\u001b[0m \u001b[0;32mdef\u001b[0m \u001b[0mget_language_bool\u001b[0m\u001b[0;34m(\u001b[0m\u001b[0mlanguage_code\u001b[0m\u001b[0;34m:\u001b[0m \u001b[0mstr\u001b[0m\u001b[0;34m)\u001b[0m\u001b[0;34m:\u001b[0m\u001b[0;34m\u001b[0m\u001b[0;34m\u001b[0m\u001b[0m\n\u001b[0;32m---> 33\u001b[0;31m     \u001b[0;32mreturn\u001b[0m \u001b[0mvisions_bool\u001b[0m\u001b[0;34m.\u001b[0m\u001b[0mmake_string_coercion\u001b[0m\u001b[0;34m(\u001b[0m\u001b[0mget_language_coercions\u001b[0m\u001b[0;34m(\u001b[0m\u001b[0mlanguage_code\u001b[0m\u001b[0;34m)\u001b[0m\u001b[0;34m)\u001b[0m\u001b[0;34m\u001b[0m\u001b[0;34m\u001b[0m\u001b[0m\n\u001b[0m\u001b[1;32m     34\u001b[0m \u001b[0;34m\u001b[0m\u001b[0m\n\u001b[1;32m     35\u001b[0m \u001b[0;34m\u001b[0m\u001b[0m\n",
      "\u001b[0;31mTypeError\u001b[0m: make_string_coercion() missing 1 required positional argument: 'string_coercions'"
     ]
    }
   ],
   "source": [
    "nl_bool = get_language_bool('nl')"
   ]
  },
  {
   "cell_type": "code",
   "execution_count": 5,
   "metadata": {},
   "outputs": [
    {
     "data": {
      "text/plain": [
       "{'en_bool': visions_string,\n",
       " 'nl_bool': visions_string,\n",
       " 'pig_latin_bool': visions_bool[pig_latin]}"
      ]
     },
     "execution_count": 5,
     "metadata": {},
     "output_type": "execute_result"
    }
   ],
   "source": [
    "pig_latin_bool_coercion = [{'esyay': True, 'onay': False}]\n",
    "pig_bool = visions_bool.make_string_coercion('pig_latin', pig_latin_bool_coercion)\n",
    "\n",
    "new_typeset = typeset - visions_bool + pig_bool\n",
    "type_inference(df, new_typeset)"
   ]
  },
  {
   "cell_type": "code",
   "execution_count": null,
   "metadata": {},
   "outputs": [],
   "source": []
  }
 ],
 "metadata": {
  "kernelspec": {
   "display_name": "Python [conda env:visions_test] *",
   "language": "python",
   "name": "conda-env-visions_test-py"
  },
  "language_info": {
   "codemirror_mode": {
    "name": "ipython",
    "version": 3
   },
   "file_extension": ".py",
   "mimetype": "text/x-python",
   "name": "python",
   "nbconvert_exporter": "python",
   "pygments_lexer": "ipython3",
   "version": "3.7.4"
  }
 },
 "nbformat": 4,
 "nbformat_minor": 4
}
